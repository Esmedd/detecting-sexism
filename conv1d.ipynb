{
 "cells": [
  {
   "cell_type": "code",
   "execution_count": 10,
   "metadata": {},
   "outputs": [
    {
     "name": "stdout",
     "output_type": "stream",
     "text": [
      "The autoreload extension is already loaded. To reload it, use:\n",
      "  %reload_ext autoreload\n"
     ]
    }
   ],
   "source": [
    "import os, sys\n",
    "import numpy as np\n",
    "import pandas as pd\n",
    "import seaborn as sns\n",
    "\n",
    "import matplotlib.pyplot as plt\n",
    "%matplotlib inline\n",
    "\n",
    "\n",
    "from app.packages.preprocessing.cleaning import *\n",
    "\n",
    "from sklearn.model_selection import train_test_split\n",
    "\n",
    "%load_ext autoreload\n",
    "%autoreload 2\n"
   ]
  },
  {
   "cell_type": "code",
   "execution_count": 27,
   "metadata": {},
   "outputs": [],
   "source": [
    "text_col = \"text\"\n",
    "selected_col = [\"text\", \"sexist_binary\", \"idx\"]\n",
    "concatenate = False\n",
    "url_label = \"[URL]\"\n",
    "usr_label = \"[USERNAME]\"\n",
    "target = \"sexist_binary\"\n"
   ]
  },
  {
   "cell_type": "markdown",
   "metadata": {},
   "source": [
    "CLEANING CSVS"
   ]
  },
  {
   "cell_type": "markdown",
   "metadata": {},
   "source": [
    "### Balanced With Punctuation"
   ]
  },
  {
   "cell_type": "code",
   "execution_count": 30,
   "metadata": {},
   "outputs": [],
   "source": [
    "raw_balanced = pd.read_csv(\"data/raw_data/merged_df_en_balanced.csv\")\n",
    "raw_balanced = raw_balanced.rename(columns = {'Unnamed: 0':'idx'})\n",
    "train_df_raw, test_df_raw = train_test_split(raw_balanced, test_size=0.2, stratify=raw_balanced['paper'], random_state=42)\n",
    "\n",
    "train_df_raw, val_df_raw = train_test_split(train_df_raw, test_size=0.1, stratify=train_df_raw['paper'], random_state=42)\n"
   ]
  },
  {
   "cell_type": "code",
   "execution_count": 31,
   "metadata": {},
   "outputs": [
    {
     "name": "stdout",
     "output_type": "stream",
     "text": [
      "Amount of duplicates on : text\n",
      "False    19994\n",
      "True       108\n",
      "Name: count, dtype: int64\n",
      "drop_duplicates_from_one_col executed in 0.1 seconds, using up to 32.74MB of RAM\n",
      "Amount of NaN on : text             1\n",
      "sexist_binary    0\n",
      "idx              0\n",
      "dtype: int64\n",
      "drop_na executed in 0.01 seconds, using up to 1.27MB of RAM\n",
      "urls_remover executed in 0.45 seconds, using up to 1.51MB of RAM\n",
      "username_remover executed in 0.26 seconds, using up to 1.36MB of RAM\n",
      "emoji_replacer executed in 18.43 seconds, using up to 5.19MB of RAM\n",
      "hashtag_adapter executed in 0.2 seconds, using up to 1.44MB of RAM\n",
      "remove_punctuation executed in 0.32 seconds, using up to 4.83MB of RAM\n",
      "remove_accents executed in 0.25 seconds, using up to 1.31MB of RAM\n",
      "remove_numbers executed in 0.6 seconds, using up to 4.78MB of RAM\n",
      "strip executed in 0.01 seconds, using up to 1.36MB of RAM\n",
      "✅ All in One is done\n",
      "Amount of duplicates on : text\n",
      "False    2234\n",
      "Name: count, dtype: int64\n",
      "drop_duplicates_from_one_col executed in 0.0 seconds, using up to 0.16MB of RAM\n",
      "Amount of NaN on : text             1\n",
      "sexist_binary    0\n",
      "idx              0\n",
      "dtype: int64\n",
      "drop_na executed in 0.01 seconds, using up to 0.15MB of RAM\n",
      "urls_remover executed in 0.05 seconds, using up to 0.18MB of RAM\n",
      "username_remover executed in 0.02 seconds, using up to 0.16MB of RAM\n",
      "emoji_replacer executed in 2.32 seconds, using up to 0.61MB of RAM\n",
      "hashtag_adapter executed in 0.03 seconds, using up to 0.17MB of RAM\n",
      "remove_punctuation executed in 0.04 seconds, using up to 0.57MB of RAM\n",
      "remove_accents executed in 0.03 seconds, using up to 0.15MB of RAM\n",
      "remove_numbers executed in 0.08 seconds, using up to 0.56MB of RAM\n",
      "strip executed in 0.0 seconds, using up to 0.16MB of RAM\n",
      "✅ All in One is done\n",
      "Amount of duplicates on : text\n",
      "False    5578\n",
      "True        6\n",
      "Name: count, dtype: int64\n",
      "drop_duplicates_from_one_col executed in 0.01 seconds, using up to 0.48MB of RAM\n",
      "Amount of NaN on : text             0\n",
      "sexist_binary    0\n",
      "idx              0\n",
      "dtype: int64\n",
      "drop_na executed in 0.01 seconds, using up to 0.28MB of RAM\n",
      "urls_remover executed in 0.14 seconds, using up to 0.45MB of RAM\n",
      "username_remover executed in 0.07 seconds, using up to 0.39MB of RAM\n",
      "emoji_replacer executed in 5.51 seconds, using up to 1.51MB of RAM\n",
      "hashtag_adapter executed in 0.06 seconds, using up to 0.41MB of RAM\n",
      "remove_punctuation executed in 0.09 seconds, using up to 1.41MB of RAM\n",
      "remove_accents executed in 0.08 seconds, using up to 0.38MB of RAM\n",
      "remove_numbers executed in 0.17 seconds, using up to 1.38MB of RAM\n",
      "strip executed in 0.0 seconds, using up to 0.37MB of RAM\n",
      "✅ All in One is done\n"
     ]
    }
   ],
   "source": [
    "train_bal_punc = all_in_one(train_df_raw, text_col, selected_col, concatenate=False, func_to_exec=[True, True,True,True,True,True,True,False, True,True,True])\n",
    "val_bal_punc = all_in_one(val_df_raw, text_col, selected_col, concatenate=False, func_to_exec=[True, True,True,True,True,True,True,False, True,True,True])\n",
    "test_bal_punc = all_in_one(test_df_raw, text_col, selected_col, concatenate=False, func_to_exec=[True, True,True,True,True,True,True,False, True,True,True])\n"
   ]
  },
  {
   "cell_type": "code",
   "execution_count": 32,
   "metadata": {},
   "outputs": [],
   "source": [
    "ds = [[train_bal_punc, \"train_bal_punc\"], [val_bal_punc, \"val_bal_punc\"],[test_bal_punc, \"test_bal_punc\"]]\n",
    "\n",
    "for i in ds:\n",
    "  i[0].to_csv(f\"data/raw_data/{i[1]}.csv\")\n"
   ]
  },
  {
   "cell_type": "markdown",
   "metadata": {},
   "source": [
    "### Remove Ethos/Workplace + Balance + Clean"
   ]
  },
  {
   "cell_type": "code",
   "execution_count": 33,
   "metadata": {},
   "outputs": [],
   "source": [
    "raw_balanced = pd.read_csv(\"data/raw_data/merged_df_en_balanced.csv\")\n",
    "raw_balanced = raw_balanced.rename(columns = {'Unnamed: 0':'idx'})\n",
    "\n",
    "bal_four_raw = raw_balanced[raw_balanced['paper'] != 'workplace']\n",
    "bal_four_raw = raw_balanced[raw_balanced['paper'] != 'ethos']\n",
    "\n",
    "train_df_raw, test_df_raw = train_test_split(bal_four_raw, test_size=0.2, stratify=bal_four_raw['paper'], random_state=42)\n",
    "\n",
    "train_df_raw, val_df_raw = train_test_split(train_df_raw, test_size=0.1, stratify=train_df_raw['paper'], random_state=42)\n"
   ]
  },
  {
   "cell_type": "code",
   "execution_count": 34,
   "metadata": {},
   "outputs": [
    {
     "name": "stdout",
     "output_type": "stream",
     "text": [
      "Amount of duplicates on : text\n",
      "False    19930\n",
      "True       112\n",
      "Name: count, dtype: int64\n",
      "drop_duplicates_from_one_col executed in 0.02 seconds, using up to 1.7MB of RAM\n",
      "Amount of NaN on : text             1\n",
      "sexist_binary    0\n",
      "idx              0\n",
      "dtype: int64\n",
      "drop_na executed in 0.01 seconds, using up to 1.26MB of RAM\n",
      "urls_remover executed in 0.32 seconds, using up to 1.5MB of RAM\n",
      "username_remover executed in 0.17 seconds, using up to 1.37MB of RAM\n",
      "emoji_replacer executed in 12.13 seconds, using up to 5.18MB of RAM\n",
      "hashtag_adapter executed in 0.13 seconds, using up to 1.44MB of RAM\n",
      "remove_punctuation executed in 0.22 seconds, using up to 4.82MB of RAM\n",
      "remove_accents executed in 0.18 seconds, using up to 1.3MB of RAM\n",
      "strip executed in 0.01 seconds, using up to 1.29MB of RAM\n",
      "✅ All in One is done\n",
      "Amount of duplicates on : text\n",
      "False    2223\n",
      "True        4\n",
      "Name: count, dtype: int64\n",
      "drop_duplicates_from_one_col executed in 0.0 seconds, using up to 0.2MB of RAM\n",
      "Amount of NaN on : text             0\n",
      "sexist_binary    0\n",
      "idx              0\n",
      "dtype: int64\n",
      "drop_na executed in 0.0 seconds, using up to 0.13MB of RAM\n",
      "urls_remover executed in 0.04 seconds, using up to 0.18MB of RAM\n",
      "username_remover executed in 0.02 seconds, using up to 0.15MB of RAM\n",
      "emoji_replacer executed in 1.4 seconds, using up to 0.61MB of RAM\n",
      "hashtag_adapter executed in 0.02 seconds, using up to 0.17MB of RAM\n",
      "remove_punctuation executed in 0.03 seconds, using up to 0.57MB of RAM\n",
      "remove_accents executed in 0.02 seconds, using up to 0.15MB of RAM\n",
      "strip executed in 0.0 seconds, using up to 0.14MB of RAM\n",
      "✅ All in One is done\n",
      "Amount of duplicates on : text\n",
      "False    5565\n",
      "True        3\n",
      "Name: count, dtype: int64\n",
      "drop_duplicates_from_one_col executed in 0.0 seconds, using up to 0.48MB of RAM\n",
      "Amount of NaN on : text             0\n",
      "sexist_binary    0\n",
      "idx              0\n",
      "dtype: int64\n",
      "drop_na executed in 0.0 seconds, using up to 0.28MB of RAM\n",
      "urls_remover executed in 0.08 seconds, using up to 0.45MB of RAM\n",
      "username_remover executed in 0.04 seconds, using up to 0.38MB of RAM\n",
      "emoji_replacer executed in 3.54 seconds, using up to 1.5MB of RAM\n",
      "hashtag_adapter executed in 0.04 seconds, using up to 0.41MB of RAM\n",
      "remove_punctuation executed in 0.07 seconds, using up to 1.41MB of RAM\n",
      "remove_accents executed in 0.06 seconds, using up to 0.37MB of RAM\n",
      "strip executed in 0.0 seconds, using up to 0.36MB of RAM\n",
      "✅ All in One is done\n"
     ]
    }
   ],
   "source": [
    "train_b_cl_4 = all_in_one(train_df_raw, text_col, selected_col, concatenate=False, func_to_exec=[True, True,True,True,True,True,True,False, True,False,True])\n",
    "val_b_cl_4 = all_in_one(val_df_raw, text_col, selected_col, concatenate=False, func_to_exec=[True, True,True,True,True,True,True,False, True,False,True])\n",
    "test_b_cl_4 = all_in_one(test_df_raw, text_col, selected_col, concatenate=False, func_to_exec=[True, True,True,True,True,True,True,False, True,False,True])\n"
   ]
  },
  {
   "cell_type": "code",
   "execution_count": 35,
   "metadata": {},
   "outputs": [],
   "source": [
    "ds = [[train_b_cl_4, \"train_b_cl_4\"], [val_b_cl_4, \"val_b_cl_4\"],[test_b_cl_4, \"test_b_cl_4\"]]\n",
    "\n",
    "for i in ds:\n",
    "  i[0].to_csv(f\"data/raw_data/{i[1]}.csv\")\n"
   ]
  },
  {
   "cell_type": "markdown",
   "metadata": {},
   "source": [
    "### Unbalanced with Punctuation"
   ]
  },
  {
   "cell_type": "code",
   "execution_count": 23,
   "metadata": {},
   "outputs": [
    {
     "name": "stdout",
     "output_type": "stream",
     "text": [
      "Amount of duplicates on : text\n",
      "False    37351\n",
      "True       269\n",
      "Name: count, dtype: int64\n",
      "drop_duplicates_from_one_col executed in 0.03 seconds, using up to 3.18MB of RAM\n",
      "Amount of NaN on : text             1\n",
      "sexist_binary    0\n",
      "idx              0\n",
      "dtype: int64\n",
      "drop_na executed in 0.02 seconds, using up to 2.36MB of RAM\n",
      "urls_remover executed in 0.84 seconds, using up to 2.74MB of RAM\n",
      "username_remover executed in 0.4 seconds, using up to 2.38MB of RAM\n",
      "emoji_replacer executed in 34.9 seconds, using up to 9.55MB of RAM\n",
      "hashtag_adapter executed in 0.4 seconds, using up to 2.75MB of RAM\n",
      "remove_punctuation executed in 0.62 seconds, using up to 8.92MB of RAM\n",
      "remove_accents executed in 0.58 seconds, using up to 2.35MB of RAM\n",
      "strip executed in 0.03 seconds, using up to 2.43MB of RAM\n",
      "✅ All in One is done\n",
      "Amount of duplicates on : text\n",
      "False    4177\n",
      "True        4\n",
      "Name: count, dtype: int64\n",
      "drop_duplicates_from_one_col executed in 0.01 seconds, using up to 0.36MB of RAM\n",
      "Amount of NaN on : text             0\n",
      "sexist_binary    0\n",
      "idx              0\n",
      "dtype: int64\n",
      "drop_na executed in 0.02 seconds, using up to 0.24MB of RAM\n",
      "urls_remover executed in 0.09 seconds, using up to 0.32MB of RAM\n",
      "username_remover executed in 0.05 seconds, using up to 0.27MB of RAM\n",
      "emoji_replacer executed in 3.92 seconds, using up to 1.11MB of RAM\n",
      "hashtag_adapter executed in 0.04 seconds, using up to 0.34MB of RAM\n",
      "remove_punctuation executed in 0.07 seconds, using up to 1.04MB of RAM\n",
      "remove_accents executed in 0.05 seconds, using up to 0.27MB of RAM\n",
      "strip executed in 0.0 seconds, using up to 0.28MB of RAM\n",
      "✅ All in One is done\n",
      "Amount of duplicates on : text\n",
      "False    10425\n",
      "True        26\n",
      "Name: count, dtype: int64\n",
      "drop_duplicates_from_one_col executed in 0.01 seconds, using up to 0.89MB of RAM\n",
      "Amount of NaN on : text             1\n",
      "sexist_binary    0\n",
      "idx              0\n",
      "dtype: int64\n",
      "drop_na executed in 0.01 seconds, using up to 0.66MB of RAM\n",
      "urls_remover executed in 0.25 seconds, using up to 0.83MB of RAM\n",
      "username_remover executed in 0.11 seconds, using up to 0.67MB of RAM\n",
      "emoji_replacer executed in 9.8 seconds, using up to 2.74MB of RAM\n",
      "hashtag_adapter executed in 0.11 seconds, using up to 0.79MB of RAM\n",
      "remove_punctuation executed in 0.18 seconds, using up to 2.57MB of RAM\n",
      "remove_accents executed in 0.18 seconds, using up to 0.67MB of RAM\n",
      "strip executed in 0.01 seconds, using up to 0.68MB of RAM\n",
      "✅ All in One is done\n"
     ]
    }
   ],
   "source": [
    "train_unb_clean = all_in_one(train_df_raw, text_col, selected_col, concatenate=False, func_to_exec=[True, True,True,True,True,True,True,False, True,False,True])\n",
    "val_unb_clean = all_in_one(val_df_raw, text_col, selected_col, concatenate=False, func_to_exec=[True, True,True,True,True,True,True,False, True,False,True])\n",
    "test_unb_clean = all_in_one(test_df_raw, text_col, selected_col, concatenate=False, func_to_exec=[True, True,True,True,True,True,True,False, True,False,True])\n"
   ]
  },
  {
   "cell_type": "code",
   "execution_count": 24,
   "metadata": {},
   "outputs": [],
   "source": [
    "ds = [[train_unb_clean, \"train_unb_clean\"], [val_unb_clean, \"val_unb_clean\"],[test_unb_clean, \"test_unb_clean\"]]\n",
    "\n",
    "for i in ds:\n",
    "  i[0].to_csv(f\"data/raw_data/{i[1]}.csv\")\n"
   ]
  },
  {
   "cell_type": "code",
   "execution_count": 25,
   "metadata": {},
   "outputs": [
    {
     "data": {
      "text/plain": [
       "sexist_binary\n",
       "0    29480\n",
       "1     7870\n",
       "Name: count, dtype: int64"
      ]
     },
     "execution_count": 25,
     "metadata": {},
     "output_type": "execute_result"
    }
   ],
   "source": [
    "train_unb_clean['sexist_binary'].value_counts()\n"
   ]
  },
  {
   "cell_type": "code",
   "execution_count": 36,
   "metadata": {},
   "outputs": [
    {
     "data": {
      "text/plain": [
       "[\"For a housewife that is good, they're usually too delicate to ride motorbikes\",\n",
       " \"Personally I think mothers can't fishing because it's not in their genes\"]"
      ]
     },
     "execution_count": 36,
     "metadata": {},
     "output_type": "execute_result"
    }
   ],
   "source": []
  },
  {
   "cell_type": "code",
   "execution_count": null,
   "metadata": {},
   "outputs": [],
   "source": []
  }
 ],
 "metadata": {
  "kernelspec": {
   "display_name": "youre-not-sexist",
   "language": "python",
   "name": "python3"
  },
  "language_info": {
   "codemirror_mode": {
    "name": "ipython",
    "version": 3
   },
   "file_extension": ".py",
   "mimetype": "text/x-python",
   "name": "python",
   "nbconvert_exporter": "python",
   "pygments_lexer": "ipython3",
   "version": "3.10.6"
  }
 },
 "nbformat": 4,
 "nbformat_minor": 2
}
