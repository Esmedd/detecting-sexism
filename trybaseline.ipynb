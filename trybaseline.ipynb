{
 "cells": [
  {
   "cell_type": "code",
   "execution_count": 1,
   "metadata": {},
   "outputs": [],
   "source": [
    "from app.packages.preprocessing.cleaning import *\n",
    "from app.packages.preprocessing.preprocessing_ML import *\n",
    "from app.ml_logic.multinomial.multinomial_model import *\n",
    "from sklearn.model_selection import train_test_split\n",
    "\n",
    "%load_ext autoreload\n",
    "%autoreload 2\n"
   ]
  },
  {
   "cell_type": "code",
   "execution_count": 23,
   "metadata": {},
   "outputs": [
    {
     "ename": "AttributeError",
     "evalue": "'float' object has no attribute 'strip'",
     "output_type": "error",
     "traceback": [
      "\u001b[0;31m---------------------------------------------------------------------------\u001b[0m",
      "\u001b[0;31mAttributeError\u001b[0m                            Traceback (most recent call last)",
      "\u001b[1;32m/Users/elizabethimpulse/code/Esmedd/detecting-sexism/trybaseline.ipynb Cell 2\u001b[0m line \u001b[0;36m3\n\u001b[1;32m      <a href='vscode-notebook-cell:/Users/elizabethimpulse/code/Esmedd/detecting-sexism/trybaseline.ipynb#X10sZmlsZQ%3D%3D?line=0'>1</a>\u001b[0m test_data \u001b[39m=\u001b[39m pd\u001b[39m.\u001b[39mread_csv(\u001b[39m\"\u001b[39m\u001b[39mdata/raw_data/merged_df_en_balanced.csv\u001b[39m\u001b[39m\"\u001b[39m)\n\u001b[0;32m----> <a href='vscode-notebook-cell:/Users/elizabethimpulse/code/Esmedd/detecting-sexism/trybaseline.ipynb#X10sZmlsZQ%3D%3D?line=2'>3</a>\u001b[0m test_data[\u001b[39m\"\u001b[39m\u001b[39mtext\u001b[39m\u001b[39m\"\u001b[39m] \u001b[39m=\u001b[39m test_data[\u001b[39m\"\u001b[39;49m\u001b[39mtext\u001b[39;49m\u001b[39m\"\u001b[39;49m]\u001b[39m.\u001b[39;49mapply(\u001b[39mlambda\u001b[39;49;00m row: cours_preprocessing(row))\n",
      "File \u001b[0;32m~/.pyenv/versions/3.10.6/envs/youre-not-sexist/lib/python3.10/site-packages/pandas/core/series.py:4760\u001b[0m, in \u001b[0;36mSeries.apply\u001b[0;34m(self, func, convert_dtype, args, by_row, **kwargs)\u001b[0m\n\u001b[1;32m   4625\u001b[0m \u001b[39mdef\u001b[39;00m \u001b[39mapply\u001b[39m(\n\u001b[1;32m   4626\u001b[0m     \u001b[39mself\u001b[39m,\n\u001b[1;32m   4627\u001b[0m     func: AggFuncType,\n\u001b[0;32m   (...)\u001b[0m\n\u001b[1;32m   4632\u001b[0m     \u001b[39m*\u001b[39m\u001b[39m*\u001b[39mkwargs,\n\u001b[1;32m   4633\u001b[0m ) \u001b[39m-\u001b[39m\u001b[39m>\u001b[39m DataFrame \u001b[39m|\u001b[39m Series:\n\u001b[1;32m   4634\u001b[0m \u001b[39m    \u001b[39m\u001b[39m\"\"\"\u001b[39;00m\n\u001b[1;32m   4635\u001b[0m \u001b[39m    Invoke function on values of Series.\u001b[39;00m\n\u001b[1;32m   4636\u001b[0m \n\u001b[0;32m   (...)\u001b[0m\n\u001b[1;32m   4751\u001b[0m \u001b[39m    dtype: float64\u001b[39;00m\n\u001b[1;32m   4752\u001b[0m \u001b[39m    \"\"\"\u001b[39;00m\n\u001b[1;32m   4753\u001b[0m     \u001b[39mreturn\u001b[39;00m SeriesApply(\n\u001b[1;32m   4754\u001b[0m         \u001b[39mself\u001b[39;49m,\n\u001b[1;32m   4755\u001b[0m         func,\n\u001b[1;32m   4756\u001b[0m         convert_dtype\u001b[39m=\u001b[39;49mconvert_dtype,\n\u001b[1;32m   4757\u001b[0m         by_row\u001b[39m=\u001b[39;49mby_row,\n\u001b[1;32m   4758\u001b[0m         args\u001b[39m=\u001b[39;49margs,\n\u001b[1;32m   4759\u001b[0m         kwargs\u001b[39m=\u001b[39;49mkwargs,\n\u001b[0;32m-> 4760\u001b[0m     )\u001b[39m.\u001b[39;49mapply()\n",
      "File \u001b[0;32m~/.pyenv/versions/3.10.6/envs/youre-not-sexist/lib/python3.10/site-packages/pandas/core/apply.py:1207\u001b[0m, in \u001b[0;36mSeriesApply.apply\u001b[0;34m(self)\u001b[0m\n\u001b[1;32m   1204\u001b[0m     \u001b[39mreturn\u001b[39;00m \u001b[39mself\u001b[39m\u001b[39m.\u001b[39mapply_compat()\n\u001b[1;32m   1206\u001b[0m \u001b[39m# self.func is Callable\u001b[39;00m\n\u001b[0;32m-> 1207\u001b[0m \u001b[39mreturn\u001b[39;00m \u001b[39mself\u001b[39;49m\u001b[39m.\u001b[39;49mapply_standard()\n",
      "File \u001b[0;32m~/.pyenv/versions/3.10.6/envs/youre-not-sexist/lib/python3.10/site-packages/pandas/core/apply.py:1287\u001b[0m, in \u001b[0;36mSeriesApply.apply_standard\u001b[0;34m(self)\u001b[0m\n\u001b[1;32m   1281\u001b[0m \u001b[39m# row-wise access\u001b[39;00m\n\u001b[1;32m   1282\u001b[0m \u001b[39m# apply doesn't have a `na_action` keyword and for backward compat reasons\u001b[39;00m\n\u001b[1;32m   1283\u001b[0m \u001b[39m# we need to give `na_action=\"ignore\"` for categorical data.\u001b[39;00m\n\u001b[1;32m   1284\u001b[0m \u001b[39m# TODO: remove the `na_action=\"ignore\"` when that default has been changed in\u001b[39;00m\n\u001b[1;32m   1285\u001b[0m \u001b[39m#  Categorical (GH51645).\u001b[39;00m\n\u001b[1;32m   1286\u001b[0m action \u001b[39m=\u001b[39m \u001b[39m\"\u001b[39m\u001b[39mignore\u001b[39m\u001b[39m\"\u001b[39m \u001b[39mif\u001b[39;00m \u001b[39misinstance\u001b[39m(obj\u001b[39m.\u001b[39mdtype, CategoricalDtype) \u001b[39melse\u001b[39;00m \u001b[39mNone\u001b[39;00m\n\u001b[0;32m-> 1287\u001b[0m mapped \u001b[39m=\u001b[39m obj\u001b[39m.\u001b[39;49m_map_values(\n\u001b[1;32m   1288\u001b[0m     mapper\u001b[39m=\u001b[39;49mcurried, na_action\u001b[39m=\u001b[39;49maction, convert\u001b[39m=\u001b[39;49m\u001b[39mself\u001b[39;49m\u001b[39m.\u001b[39;49mconvert_dtype\n\u001b[1;32m   1289\u001b[0m )\n\u001b[1;32m   1291\u001b[0m \u001b[39mif\u001b[39;00m \u001b[39mlen\u001b[39m(mapped) \u001b[39mand\u001b[39;00m \u001b[39misinstance\u001b[39m(mapped[\u001b[39m0\u001b[39m], ABCSeries):\n\u001b[1;32m   1292\u001b[0m     \u001b[39m# GH#43986 Need to do list(mapped) in order to get treated as nested\u001b[39;00m\n\u001b[1;32m   1293\u001b[0m     \u001b[39m#  See also GH#25959 regarding EA support\u001b[39;00m\n\u001b[1;32m   1294\u001b[0m     \u001b[39mreturn\u001b[39;00m obj\u001b[39m.\u001b[39m_constructor_expanddim(\u001b[39mlist\u001b[39m(mapped), index\u001b[39m=\u001b[39mobj\u001b[39m.\u001b[39mindex)\n",
      "File \u001b[0;32m~/.pyenv/versions/3.10.6/envs/youre-not-sexist/lib/python3.10/site-packages/pandas/core/base.py:921\u001b[0m, in \u001b[0;36mIndexOpsMixin._map_values\u001b[0;34m(self, mapper, na_action, convert)\u001b[0m\n\u001b[1;32m    918\u001b[0m \u001b[39mif\u001b[39;00m \u001b[39misinstance\u001b[39m(arr, ExtensionArray):\n\u001b[1;32m    919\u001b[0m     \u001b[39mreturn\u001b[39;00m arr\u001b[39m.\u001b[39mmap(mapper, na_action\u001b[39m=\u001b[39mna_action)\n\u001b[0;32m--> 921\u001b[0m \u001b[39mreturn\u001b[39;00m algorithms\u001b[39m.\u001b[39;49mmap_array(arr, mapper, na_action\u001b[39m=\u001b[39;49mna_action, convert\u001b[39m=\u001b[39;49mconvert)\n",
      "File \u001b[0;32m~/.pyenv/versions/3.10.6/envs/youre-not-sexist/lib/python3.10/site-packages/pandas/core/algorithms.py:1814\u001b[0m, in \u001b[0;36mmap_array\u001b[0;34m(arr, mapper, na_action, convert)\u001b[0m\n\u001b[1;32m   1812\u001b[0m values \u001b[39m=\u001b[39m arr\u001b[39m.\u001b[39mastype(\u001b[39mobject\u001b[39m, copy\u001b[39m=\u001b[39m\u001b[39mFalse\u001b[39;00m)\n\u001b[1;32m   1813\u001b[0m \u001b[39mif\u001b[39;00m na_action \u001b[39mis\u001b[39;00m \u001b[39mNone\u001b[39;00m:\n\u001b[0;32m-> 1814\u001b[0m     \u001b[39mreturn\u001b[39;00m lib\u001b[39m.\u001b[39;49mmap_infer(values, mapper, convert\u001b[39m=\u001b[39;49mconvert)\n\u001b[1;32m   1815\u001b[0m \u001b[39melse\u001b[39;00m:\n\u001b[1;32m   1816\u001b[0m     \u001b[39mreturn\u001b[39;00m lib\u001b[39m.\u001b[39mmap_infer_mask(\n\u001b[1;32m   1817\u001b[0m         values, mapper, mask\u001b[39m=\u001b[39misna(values)\u001b[39m.\u001b[39mview(np\u001b[39m.\u001b[39muint8), convert\u001b[39m=\u001b[39mconvert\n\u001b[1;32m   1818\u001b[0m     )\n",
      "File \u001b[0;32mlib.pyx:2920\u001b[0m, in \u001b[0;36mpandas._libs.lib.map_infer\u001b[0;34m()\u001b[0m\n",
      "\u001b[1;32m/Users/elizabethimpulse/code/Esmedd/detecting-sexism/trybaseline.ipynb Cell 2\u001b[0m line \u001b[0;36m3\n\u001b[1;32m      <a href='vscode-notebook-cell:/Users/elizabethimpulse/code/Esmedd/detecting-sexism/trybaseline.ipynb#X10sZmlsZQ%3D%3D?line=0'>1</a>\u001b[0m test_data \u001b[39m=\u001b[39m pd\u001b[39m.\u001b[39mread_csv(\u001b[39m\"\u001b[39m\u001b[39mdata/raw_data/merged_df_en_balanced.csv\u001b[39m\u001b[39m\"\u001b[39m)\n\u001b[0;32m----> <a href='vscode-notebook-cell:/Users/elizabethimpulse/code/Esmedd/detecting-sexism/trybaseline.ipynb#X10sZmlsZQ%3D%3D?line=2'>3</a>\u001b[0m test_data[\u001b[39m\"\u001b[39m\u001b[39mtext\u001b[39m\u001b[39m\"\u001b[39m] \u001b[39m=\u001b[39m test_data[\u001b[39m\"\u001b[39m\u001b[39mtext\u001b[39m\u001b[39m\"\u001b[39m]\u001b[39m.\u001b[39mapply(\u001b[39mlambda\u001b[39;00m row: cours_preprocessing(row))\n",
      "File \u001b[0;32m~/code/Esmedd/detecting-sexism/app/packages/preprocessing/preprocessing_ML.py:83\u001b[0m, in \u001b[0;36mcours_preprocessing\u001b[0;34m(sentence)\u001b[0m\n\u001b[1;32m     81\u001b[0m \u001b[39mdef\u001b[39;00m \u001b[39mcours_preprocessing\u001b[39m(sentence):\n\u001b[1;32m     82\u001b[0m \u001b[39m# Basic cleaning\u001b[39;00m\n\u001b[0;32m---> 83\u001b[0m     sentence \u001b[39m=\u001b[39m sentence\u001b[39m.\u001b[39;49mstrip() \u001b[39m## remove whitespaces\u001b[39;00m\n\u001b[1;32m     84\u001b[0m     sentence \u001b[39m=\u001b[39m sentence\u001b[39m.\u001b[39mlower() \u001b[39m## lowercase\u001b[39;00m\n\u001b[1;32m     85\u001b[0m     sentence \u001b[39m=\u001b[39m \u001b[39m'\u001b[39m\u001b[39m'\u001b[39m\u001b[39m.\u001b[39mjoin(char \u001b[39mfor\u001b[39;00m char \u001b[39min\u001b[39;00m sentence \u001b[39mif\u001b[39;00m \u001b[39mnot\u001b[39;00m char\u001b[39m.\u001b[39misdigit()) \u001b[39m## remove numbers\u001b[39;00m\n",
      "\u001b[0;31mAttributeError\u001b[0m: 'float' object has no attribute 'strip'"
     ]
    }
   ],
   "source": [
    "test_data = pd.read_csv(\"data/raw_data/merged_df_en_balanced.csv\")\n",
    "\n",
    "test_data_clean = test_data[\"text\"].apply(lambda row: cours_preprocessing(row))\n"
   ]
  },
  {
   "cell_type": "code",
   "execution_count": 2,
   "metadata": {},
   "outputs": [
    {
     "name": "stdout",
     "output_type": "stream",
     "text": [
      "cleaning executed in 0.17 seconds, using up to 13.81MB of RAM\n",
      "Amount of duplicates on : text\n",
      "False    27722\n",
      "True       198\n",
      "Name: count, dtype: int64\n",
      "cleaning.drop_duplicates_from_one_col executed in 0.02 seconds, using up to 2.43MB of RAM\n",
      "Amount of NaN on : text             1\n",
      "sexist_binary    0\n",
      "dtype: int64\n",
      "cleaning.drop_na executed in 0.01 seconds, using up to 1.37MB of RAM\n",
      "cleaning.urls_remover executed in 0.39 seconds, using up to 2.12MB of RAM\n",
      "cleaning.username_remover executed in 0.2 seconds, using up to 1.9MB of RAM\n",
      "cleaning.emoji_replacer executed in 16.68 seconds, using up to 8.94MB of RAM\n",
      "cleaning.hashtag_adapter executed in 0.18 seconds, using up to 2.02MB of RAM\n",
      "cleaning.remove_punctuation executed in 0.29 seconds, using up to 6.74MB of RAM\n",
      "cleaning.lower_case executed in 0.05 seconds, using up to 7.1MB of RAM\n",
      "cleaning.remove_accents executed in 0.36 seconds, using up to 2.0MB of RAM\n",
      "cleaning.remove_punctuation executed in 0.19 seconds, using up to 1.78MB of RAM\n",
      "cleaning.strip executed in 0.02 seconds, using up to 1.79MB of RAM\n",
      "✅ All in One is done\n"
     ]
    }
   ],
   "source": [
    "DB_URL = \"data/raw_data/merged_df_en_balanced.csv\"\n",
    "text_col = \"text\"\n",
    "selected_col = [\"text\", \"sexist_binary\"]\n",
    "concatenate = False\n",
    "url_label = \"[URL]\"\n",
    "usr_label = \"[USERNAME]\"\n",
    "target = \"sexist_binary\"\n",
    "\n",
    "\n",
    "clean = cleaning(DB_URL)\n",
    "df = clean.all_in_one(clean.data,text_col,selected_col,concatenate,url_label, usr_label)\n"
   ]
  },
  {
   "cell_type": "code",
   "execution_count": null,
   "metadata": {},
   "outputs": [],
   "source": [
    "X_word = [ text_to_word_sequence(x) for x in X_text ]\n"
   ]
  },
  {
   "cell_type": "code",
   "execution_count": 41,
   "metadata": {},
   "outputs": [
    {
     "name": "stdout",
     "output_type": "stream",
     "text": [
      "tokenize_words executed in 11.95 seconds, using up to 38.89MB of RAM\n",
      "lemmatizer executed in 16.05 seconds, using up to 5.44MB of RAM\n",
      "tokenize_words executed in 2.94 seconds, using up to 9.55MB of RAM\n",
      "lemmatizer executed in 3.87 seconds, using up to 1.35MB of RAM\n"
     ]
    }
   ],
   "source": [
    "X = df.drop(target, axis=1)\n",
    "y = df[target]\n",
    "X_train, X_test, y_train, y_test = train_test_split(X,y, test_size=0.2)\n",
    "\n",
    "X_train_preproc = preprocessing(X_train,text_col,False,False, True)\n",
    "X_test_preproc = preprocessing(X_test,text_col,False,False, True)\n",
    "\n",
    "# = X_train[\"text\"].apply(lambda row: cours_preprocessing(row))\n"
   ]
  },
  {
   "cell_type": "code",
   "execution_count": 43,
   "metadata": {},
   "outputs": [
    {
     "data": {
      "text/plain": [
       "<bound method NDFrame.head of                                                     text\n",
       "6665   [ username ] [ username ] [ username ] only in...\n",
       "12642  rbreeding some of you people need to get a fuc...\n",
       "5379   im like see 2 girls right now think of maybe a...\n",
       "4304   tbph i might bang it if i be bore shes get a d...\n",
       "18148  yea ted cruz be a cunt no doubt but why not ju...\n",
       "...                                                  ...\n",
       "1109   if youre accuse youre guilty and if the woman ...\n",
       "21568                yup there still hot blondes [ mkr ]\n",
       "20827  the only person indict in the [ eric garner ] ...\n",
       "7352   [ brit fam ] never put a woman in charge of an...\n",
       "516    women be so complicate best not try and unders...\n",
       "\n",
       "[22176 rows x 1 columns]>"
      ]
     },
     "execution_count": 43,
     "metadata": {},
     "output_type": "execute_result"
    }
   ],
   "source": [
    "X_train_preproc.head\n"
   ]
  },
  {
   "cell_type": "code",
   "execution_count": 44,
   "metadata": {},
   "outputs": [
    {
     "name": "stdout",
     "output_type": "stream",
     "text": [
      "6665     [ username ] [ username ] [ username ] only in...\n",
      "12642    rbreeding some of you people need to get a fuc...\n",
      "5379     im like see 2 girls right now think of maybe a...\n",
      "4304     tbph i might bang it if i be bore shes get a d...\n",
      "18148    yea ted cruz be a cunt no doubt but why not ju...\n",
      "Name: text, dtype: object\n",
      "recall is 0.72\n"
     ]
    },
    {
     "data": {
      "text/plain": [
       "{'fit_time': array([0.02712607, 0.02614284, 0.02404404, 0.02530599, 0.02603197]),\n",
       " 'score_time': array([0.015136  , 0.01148319, 0.01325417, 0.01171422, 0.01293302]),\n",
       " 'test_accuracy': array([0.65667268, 0.65366404, 0.66583991, 0.65614431, 0.64036077]),\n",
       " 'test_recall': array([0.72184685, 0.72394366, 0.7543662 , 0.7143662 , 0.69239437])}"
      ]
     },
     "execution_count": 44,
     "metadata": {},
     "output_type": "execute_result"
    }
   ],
   "source": [
    "#gs_model = multinomial_baseline_model(X_train_preproc, y_train)\n",
    "\n",
    "cv_multinomial_baseline_model(X_train_preproc['text'], y_train)\n"
   ]
  },
  {
   "cell_type": "code",
   "execution_count": 14,
   "metadata": {},
   "outputs": [
    {
     "data": {
      "text/plain": [
       "<bound method NDFrame.head of                                                     text\n",
       "1348   [respect, me, she, gargle, as, the, last, depo...\n",
       "11753  [i, think, someone, just, press, the, wrong, b...\n",
       "18920  [ha, we, definitely, have, struggle, especiall...\n",
       "6738   [[, username, ], [, username, ], [, username, ...\n",
       "16833  [holtzclaw, be, a, rapist, his, dna, be, find,...\n",
       "...                                                  ...\n",
       "20781  [i, dont, need, this, money, frankly, wait, wh...\n",
       "16443  [a, ray, of, light, in, the, darkness, [, url, ]]\n",
       "16737  [she, party, like, a, college, student, but, l...\n",
       "21912  [mention1408, or, worst, depend, on, how, you,...\n",
       "25445  [today, i, visit, the, dissertation, defense, ...\n",
       "\n",
       "[22176 rows x 1 columns]>"
      ]
     },
     "execution_count": 14,
     "metadata": {},
     "output_type": "execute_result"
    }
   ],
   "source": [
    "X_train_preproc.head\n"
   ]
  },
  {
   "cell_type": "code",
   "execution_count": null,
   "metadata": {},
   "outputs": [],
   "source": []
  }
 ],
 "metadata": {
  "kernelspec": {
   "display_name": "youre-not-sexist",
   "language": "python",
   "name": "python3"
  },
  "language_info": {
   "codemirror_mode": {
    "name": "ipython",
    "version": 3
   },
   "file_extension": ".py",
   "mimetype": "text/x-python",
   "name": "python",
   "nbconvert_exporter": "python",
   "pygments_lexer": "ipython3",
   "version": "3.10.6"
  }
 },
 "nbformat": 4,
 "nbformat_minor": 2
}
